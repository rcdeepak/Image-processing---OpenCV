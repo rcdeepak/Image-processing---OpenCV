{
 "cells": [
  {
   "cell_type": "markdown",
   "id": "9753a386",
   "metadata": {},
   "source": [
    "## 1. Drawing on Images"
   ]
  },
  {
   "cell_type": "code",
   "execution_count": 2,
   "id": "76ed3cbf",
   "metadata": {},
   "outputs": [],
   "source": [
    "import numpy as np\n",
    "import matplotlib.pyplot as plt\n",
    "import cv2"
   ]
  },
  {
   "cell_type": "code",
   "execution_count": 36,
   "id": "95743bdb",
   "metadata": {},
   "outputs": [],
   "source": [
    "#Creating a blank image\n",
    "blank_img=np.zeros((512,512,3))\n",
    "test_img= blank_img.copy()"
   ]
  },
  {
   "cell_type": "code",
   "execution_count": 37,
   "id": "f5643d08",
   "metadata": {},
   "outputs": [
    {
     "data": {
      "text/plain": [
       "<matplotlib.image.AxesImage at 0x29cf8baffa0>"
      ]
     },
     "execution_count": 37,
     "metadata": {},
     "output_type": "execute_result"
    },
    {
     "data": {
      "image/png": "[encoded data removed]",
      "text/plain": [
       "<Figure size 432x288 with 1 Axes>"
      ]
     },
     "metadata": {
      "needs_background": "light"
     },
     "output_type": "display_data"
    }
   ],
   "source": [
    "plt.imshow(test_img)"
   ]
  },
  {
   "cell_type": "markdown",
   "id": "35a45175",
   "metadata": {},
   "source": [
    "#### Rectangle"
   ]
  },
  {
   "cell_type": "raw",
   "id": "822c9899",
   "metadata": {},
   "source": [
    "* Image\n",
    "* pt1 Vertex of the rectangle\n",
    "* plt2 Vertex of the rectangle opposite to pt1\n",
    "* color Rectangle color or brightness (grayscale image)\n",
    "* Thickness of lines that make up the rectangle. Negative values, like #FILLED, mean that the function has to draw a filled rectangle.\n",
    "* line Type Type of the line. See #LineTypes\n",
    "* shift Number of fractional bits in the point coordinates"
   ]
  },
  {
   "cell_type": "code",
   "execution_count": 38,
   "id": "d7d9a26c",
   "metadata": {},
   "outputs": [
    {
     "name": "stderr",
     "output_type": "stream",
     "text": [
      "Clipping input data to the valid range for imshow with RGB data ([0..1] for floats or [0..255] for integers).\n"
     ]
    },
    {
     "data": {
      "text/plain": [
       "<matplotlib.image.AxesImage at 0x29cf8bca400>"
      ]
     },
     "execution_count": 38,
     "metadata": {},
     "output_type": "execute_result"
    },
    {
     "data": {
      "image/png": "[encoded data removed]",
      "text/plain": [
       "<Figure size 432x288 with 1 Axes>"
      ]
     },
     "metadata": {
      "needs_background": "light"
     },
     "output_type": "display_data"
    }
   ],
   "source": [
    "cv2.rectangle(test_img, pt1=(200,400), pt2=(400,450), color=(0,250,0), thickness=5)\n",
    "plt.imshow(test_img)"
   ]
  },
  {
   "cell_type": "markdown",
   "id": "67f91d69",
   "metadata": {},
   "source": []
  },
  {
   "cell_type": "markdown",
   "id": "bdcf6fd1",
   "metadata": {},
   "source": [
    "#### Circles"
   ]
  },
  {
   "cell_type": "markdown",
   "id": "455ed202",
   "metadata": {},
   "source": [
    "* image \n",
    "* center\n",
    "* radiour\n",
    "* color\n",
    "* thickness, use -1 for filled shape"
   ]
  },
  {
   "cell_type": "code",
   "execution_count": 39,
   "id": "251a7cbe",
   "metadata": {},
   "outputs": [
    {
     "name": "stderr",
     "output_type": "stream",
     "text": [
      "Clipping input data to the valid range for imshow with RGB data ([0..1] for floats or [0..255] for integers).\n"
     ]
    },
    {
     "data": {
      "text/plain": [
       "<matplotlib.image.AxesImage at 0x29cf8d245e0>"
      ]
     },
     "execution_count": 39,
     "metadata": {},
     "output_type": "execute_result"
    },
    {
     "data": {
      "image/png": "[encoded data removed]",
      "text/plain": [
       "<Figure size 432x288 with 1 Axes>"
      ]
     },
     "metadata": {
      "needs_background": "light"
     },
     "output_type": "display_data"
    }
   ],
   "source": [
    "cv2.circle(test_img, radius=50, center=(200,200), color=(255,0,0), thickness=5)\n",
    "plt.imshow(test_img)"
   ]
  },
  {
   "cell_type": "code",
   "execution_count": 40,
   "id": "c2960885",
   "metadata": {},
   "outputs": [
    {
     "name": "stderr",
     "output_type": "stream",
     "text": [
      "Clipping input data to the valid range for imshow with RGB data ([0..1] for floats or [0..255] for integers).\n"
     ]
    },
    {
     "data": {
      "text/plain": [
       "<matplotlib.image.AxesImage at 0x29cf383d880>"
      ]
     },
     "execution_count": 40,
     "metadata": {},
     "output_type": "execute_result"
    },
    {
     "data": {
      "image/png": "[encoded data removed]",
      "text/plain": [
       "<Figure size 432x288 with 1 Axes>"
      ]
     },
     "metadata": {
      "needs_background": "light"
     },
     "output_type": "display_data"
    }
   ],
   "source": [
    "cv2.circle(test_img, radius=50, center=(400,200), color=(255,0,0), thickness=-1)\n",
    "plt.imshow(test_img)"
   ]
  },
  {
   "cell_type": "code",
   "execution_count": null,
   "id": "8ed1f2b5",
   "metadata": {},
   "outputs": [],
   "source": []
  },
  {
   "cell_type": "markdown",
   "id": "9a3cfdd7",
   "metadata": {},
   "source": [
    "#### Lines"
   ]
  },
  {
   "cell_type": "markdown",
   "id": "094c2839",
   "metadata": {},
   "source": [
    "* Image\n",
    "* Starting point\n",
    "* Ending point\n",
    "* Color\n",
    "* Thickness"
   ]
  },
  {
   "cell_type": "code",
   "execution_count": 41,
   "id": "ae73b73c",
   "metadata": {},
   "outputs": [
    {
     "name": "stderr",
     "output_type": "stream",
     "text": [
      "Clipping input data to the valid range for imshow with RGB data ([0..1] for floats or [0..255] for integers).\n"
     ]
    },
    {
     "data": {
      "text/plain": [
       "<matplotlib.image.AxesImage at 0x29cf8dc1be0>"
      ]
     },
     "execution_count": 41,
     "metadata": {},
     "output_type": "execute_result"
    },
    {
     "data": {
      "image/png": "[encoded data removed]",
      "text/plain": [
       "<Figure size 432x288 with 1 Axes>"
      ]
     },
     "metadata": {
      "needs_background": "light"
     },
     "output_type": "display_data"
    }
   ],
   "source": [
    "cv2.line(test_img, pt1=(0,0), pt2= (500,500), color=(255,255,255), thickness=3)\n",
    "plt.imshow(test_img)"
   ]
  },
  {
   "cell_type": "markdown",
   "id": "4cac5449",
   "metadata": {},
   "source": [
    "### Text"
   ]
  },
  {
   "cell_type": "markdown",
   "id": "15dcc813",
   "metadata": {},
   "source": [
    "* Image\n",
    "* text\n",
    "* org - Bottom-left corner of the text string in the image.\n",
    "* fontFace - Font type, see #HersheyFonts.\n",
    "* fontScale - Font scale factor that is multiplied by the font-specific base size.\n",
    "* thickness - Thickness of the lines used to draw a text.\n",
    "* lineType Line, see #LineTypes"
   ]
  },
  {
   "cell_type": "code",
   "execution_count": 42,
   "id": "1db16d99",
   "metadata": {},
   "outputs": [
    {
     "name": "stderr",
     "output_type": "stream",
     "text": [
      "Clipping input data to the valid range for imshow with RGB data ([0..1] for floats or [0..255] for integers).\n"
     ]
    },
    {
     "data": {
      "text/plain": [
       "<matplotlib.image.AxesImage at 0x29cf4128d90>"
      ]
     },
     "execution_count": 42,
     "metadata": {},
     "output_type": "execute_result"
    },
    {
     "data": {
      "image/png": "[encoded data removed]",
      "text/plain": [
       "<Figure size 432x288 with 1 Axes>"
      ]
     },
     "metadata": {
      "needs_background": "light"
     },
     "output_type": "display_data"
    }
   ],
   "source": [
    "font = cv2.FONT_HERSHEY_SIMPLEX\n",
    "cv2.putText(test_img, text='HERE IS THE TEXT', org=(50,300), fontFace = font, fontScale = 1, \n",
    "            color = (255,255,255), thickness = 2,lineType=cv2.LINE_AA )\n",
    "plt.imshow(test_img)"
   ]
  },
  {
   "cell_type": "code",
   "execution_count": null,
   "id": "37277e0c",
   "metadata": {},
   "outputs": [],
   "source": []
  }
 ],
 "metadata": {
  "kernelspec": {
   "display_name": "Python 3 (ipykernel)",
   "language": "python",
   "name": "python3"
  },
  "language_info": {
   "codemirror_mode": {
    "name": "ipython",
    "version": 3
   },
   "file_extension": ".py",
   "mimetype": "text/x-python",
   "name": "python",
   "nbconvert_exporter": "python",
   "pygments_lexer": "ipython3",
   "version": "3.9.7"
  }
 },
 "nbformat": 4,
 "nbformat_minor": 5
}
